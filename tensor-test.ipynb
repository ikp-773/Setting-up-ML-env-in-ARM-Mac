{
 "cells": [
  {
   "cell_type": "code",
   "execution_count": 6,
   "id": "ad5e9e10",
   "metadata": {},
   "outputs": [
    {
     "name": "stdout",
     "output_type": "stream",
     "text": [
      "Python Platform : macOS-13.2-arm64-arm-64bit\n",
      "Tensor Flow Version : 2.11.0\n",
      "Keras Version : 2.11.0\n",
      "\n",
      "Python Version : 3.10.9 | packaged by conda-forge | (main, Feb  2 2023, 20:26:08) [Clang 14.0.6 ]\n",
      "\n",
      "GPU is AVAILABLE\n"
     ]
    }
   ],
   "source": [
    "import sys\n",
    "\n",
    "import tensorflow.keras\n",
    "import tensorflow as tf\n",
    "import platform\n",
    "\n",
    "print(f\"Python Platform : {platform.platform()}\")\n",
    "print(f\"Tensor Flow Version : {tf.__version__}\")\n",
    "print(f\"Keras Version : {tensorflow.keras.__version__}\\n\")\n",
    "print(f\"Python Version : {sys.version}\\n\")\n",
    "gpu = len(tf.config.list_physical_devices('GPU'))>0\n",
    "print(\"GPU is\", \"AVAILABLE\" if gpu else \"NOT AVAILABLE\")\n"
   ]
  }
 ],
 "metadata": {
  "kernelspec": {
   "display_name": "Python 3.10 (tensorflow)",
   "language": "python",
   "name": "tensorflow"
  },
  "language_info": {
   "codemirror_mode": {
    "name": "ipython",
    "version": 3
   },
   "file_extension": ".py",
   "mimetype": "text/x-python",
   "name": "python",
   "nbconvert_exporter": "python",
   "pygments_lexer": "ipython3",
   "version": "3.10.9"
  }
 },
 "nbformat": 4,
 "nbformat_minor": 5
}
