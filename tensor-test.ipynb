import sys

import tensorflow.keras
import pandas as pd
import sklearn as sk
import tensorflow as tf
import platform

print(f"Python Platform : {platform.platform()}")
print(f"Tensor Flow Version : {tf.__version__}")
print(f"Keras Version : {tensorflow.keras.__version__}\n")
print(f"Python Version : {sys.version}\n")
gpu = len(tf.config.list_physical_devices('GPU'))>0
print("GPU is", "AVAILABLE" if gpu else "NOT AVAILABLE")
